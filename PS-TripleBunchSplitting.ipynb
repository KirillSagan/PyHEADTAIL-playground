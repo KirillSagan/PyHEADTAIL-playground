{
 "cells": [
  {
   "cell_type": "code",
   "execution_count": null,
   "metadata": {
    "collapsed": false
   },
   "outputs": [],
   "source": [
    "from __future__ import division\n",
    "\n",
    "import numpy as np\n",
    "import matplotlib.pyplot as plt\n",
    "from scipy.constants import e, c, m_p\n",
    "\n",
    "from PyHEADTAIL.particles.generators import ParticleGenerator, RF_bucket_distribution, gaussian2D\n",
    "from PyHEADTAIL.trackers.simple_long_tracking import RFSystems\n",
    "from PyHEADTAIL.trackers.rf_bucket import RFBucket"
   ]
  },
  {
   "cell_type": "code",
   "execution_count": null,
   "metadata": {
    "collapsed": false
   },
   "outputs": [],
   "source": [
    "# Machine\n",
    "C = 100*2*np.pi\n",
    "R = C/(2*np.pi)\n",
    "\n",
    "p0 = 1.4e9 * e/c\n",
    "gamma  = np.sqrt(1 + (p0/(m_p*c))**2)\n",
    "\n",
    "alpha  = 0.027\n",
    "eta    = alpha - 1/gamma**2\n",
    "V      = [40e3, 0, 0.]\n",
    "h      = [7, 14, 21]\n",
    "phi   = [np.pi, 0., np.pi]\n",
    "\n",
    "# Acceleration\n",
    "beta          = np.sqrt(1-1/gamma**2)\n",
    "T0            = C/(beta*c)\n",
    "normalisation = 1/C * e/p0 * T0\n",
    "dp            = 0. * e/p0 * 1./(beta*c) #* normalisation"
   ]
  },
  {
   "cell_type": "code",
   "execution_count": null,
   "metadata": {
    "collapsed": false
   },
   "outputs": [],
   "source": [
    "intensity = 1e10\n",
    "sigx = 1e-4\n",
    "sigy = 1e-4\n",
    "sigz = 9.\n",
    "sigdp = 9e-4\n",
    "\n",
    "macroparticlenumber = 2e3\n",
    "epsn_z = sigz * sigdp * 4 * np.pi * p0/e\n",
    "p_increment = dp * p0\n",
    "\n",
    "longitudinal_map = RFSystems(C, h, V, phi, [alpha], gamma, p_increment=p_increment, charge=e, mass=m_p)\n",
    "rfbucket = longitudinal_map.get_bucket(gamma=gamma)\n",
    "\n",
    "beam = ParticleGenerator(macroparticlenumber, intensity, e, m_p, C, gamma, \n",
    "                        distribution_x=gaussian2D(sigx),\n",
    "                        distribution_y=gaussian2D(sigy),\n",
    "                        distribution_z=RF_bucket_distribution(rfbucket, sigma_z=sigz)).generate()"
   ]
  },
  {
   "cell_type": "code",
   "execution_count": null,
   "metadata": {
    "collapsed": true
   },
   "outputs": [],
   "source": [
    "plt.close('all')"
   ]
  },
  {
   "cell_type": "code",
   "execution_count": null,
   "metadata": {
    "collapsed": false
   },
   "outputs": [],
   "source": [
    "import brewer2mpl\n",
    "set2 = brewer2mpl.get_map('Set1', 'qualitative', 5).mpl_colors\n",
    "\n",
    "# Bunch splitting\n",
    "n_turns = 3800\n",
    "ntrns_start = 100\n",
    "ntrns_rd_0 = 700\n",
    "ntrns_rd_1 = 2800\n",
    "ntrns_flat = 3500\n",
    "\n",
    "# Voltage programs\n",
    "v0_1 = np.linspace(40e3, 20e3, ntrns_rd_1-ntrns_rd_0)\n",
    "v0_2 = np.linspace(20e3, 0, ntrns_flat-ntrns_rd_1)\n",
    "v0 = np.ones(n_turns)*40e3\n",
    "v0[ntrns_rd_0:ntrns_rd_1] = v0_1[:]\n",
    "v0[ntrns_rd_1:ntrns_flat] = v0_2[:]\n",
    "v0[ntrns_flat:n_turns] = 0.\n",
    "\n",
    "v1_1 = np.linspace(0, 40e3, ntrns_rd_0-ntrns_start)\n",
    "v1_2 = np.linspace(40e3, 0, ntrns_flat-ntrns_rd_1)\n",
    "v1 = np.ones(n_turns)*40e3\n",
    "v1[ntrns_start:ntrns_rd_0] = v1_1[:]\n",
    "v1[ntrns_rd_1:ntrns_flat] = v1_2[:]\n",
    "v1[ntrns_flat:n_turns] = 0.\n",
    "v1[:ntrns_start] = 0.\n",
    "\n",
    "v2_1 = np.linspace(0, 40e3, ntrns_rd_1-ntrns_start)\n",
    "v2 = np.ones(n_turns)*40e3\n",
    "v2[ntrns_start:ntrns_rd_1] = v2_1[:]\n",
    "v2[:ntrns_start] = 0.\n",
    "\n",
    "\n",
    "n_part_vect = []\n",
    "trns_vect = []\n",
    "for i in xrange(n_turns):\n",
    "\n",
    "    V[0] = v0[i]\n",
    "    V[1] = v1[i]\n",
    "    V[2] = v2[i]\n",
    "    longitudinal_map.voltages = V\n",
    "    rfbucket = longitudinal_map.get_bucket(beam)        \n",
    "    longitudinal_map.track(beam)\n",
    "\n",
    "    zmax   = C/min(h)/2.\n",
    "    zz = np.linspace(-1.8*zmax, 1.8*zmax, 1000)\n",
    "    zzsep = np.linspace(-zmax, zmax, 1000)\n",
    "    pp = np.linspace(-5e-3, 5e-3, 1000)\n",
    "    ZZ, PP = np.meshgrid(zz, pp)\n",
    "\n",
    "    mskdp = (beam.dp > -np.max(rfbucket.separatrix(zzsep))) & (beam.dp < np.max(rfbucket.separatrix(zzsep)))\n",
    "    msk = mskdp\n",
    "    n_part = np.sum(msk)\n",
    "    n_part_vect.append(n_part)\n",
    "    trns_vect.append(i)\n",
    "\n",
    "    hh = rfbucket.hamiltonian(ZZ, PP)\n",
    "    zsfp, zufp = rfbucket.z_sfp, rfbucket.z_ufp\n",
    "    z0 = np.array([z for z in zsfp] + [z for z in zufp])\n",
    "\n",
    "    if i%10 == 0:\n",
    "        plt.close()\n",
    "        fig1 = plt.figure(figsize=(9,10))\n",
    "        ax2 = fig1.add_subplot(311)\n",
    "        ax1 = fig1.add_subplot(312)\n",
    "        ax3 = fig1.add_subplot(313, sharex=ax1)\n",
    "\n",
    "        ax2.set_xlim(0, n_turns)\n",
    "        ax2.plot(xrange(n_turns), v0, c=set2[1], label='h = 7')\n",
    "        ax2.plot(xrange(n_turns), v1, c=set2[2], label='h = 14')\n",
    "        ax2.plot(xrange(n_turns), v2, c=set2[3], label='h = 21')\n",
    "        ax2.set_ylim(0., 50e3)\n",
    "        ax2.set_ylabel(r'V$_{rf}$ [V]')\n",
    "        ax2.axvline(i, c='black', lw=1, ls='dashed')\n",
    "        ax2.set_xlabel('Turns')\n",
    "        ax2.ticklabel_format(style='sci', axis='y', scilimits=(0,0))\n",
    "        ax2.legend(fontsize=17, loc='upper right', bbox_to_anchor=(1.3, 1.05))\n",
    "\n",
    "        ax1.plot(zz, V[0]*np.sin(h[0]*zz/R + phi[0]), c=set2[1])\n",
    "        ax1.plot(zz, V[1]*np.sin(h[1]*zz/R + phi[1]), c=set2[2])\n",
    "        ax1.plot(zz, V[2]*np.sin(h[2]*zz/R + phi[2]), c=set2[3])\n",
    "        ax1.set_ylabel(r'V$_{rf}$ [V]')\n",
    "        ax1.set_ylim(-50e3, 50e3)\n",
    "        ax1.ticklabel_format(style='sci', axis='y', scilimits=(0,0))\n",
    "\n",
    "        ax3.contour(ZZ, PP, hh, 20, cmap=plt.cm.viridis_r)\n",
    "        ax3.plot(zz, rfbucket.separatrix(zz), c='orange')\n",
    "        ax3.plot(zz, -rfbucket.separatrix(zz), c='orange')\n",
    "\n",
    "        ax3.set_xlabel('z [m]')\n",
    "        ax3.set_ylabel('$\\delta$', fontsize=20)\n",
    "        ax3.set_xlim(-1.7*zmax, 1.7*zmax)\n",
    "        ax3.ticklabel_format(style='sci', axis='y', scilimits=(0,0))\n",
    "\n",
    "        ax3.set_ylim(-0.005, 0.005)\n",
    "        ax3.plot(beam.z, beam.dp, '.', c='r', alpha=0.6)\n",
    "\n",
    "        plt.subplots_adjust(bottom=0.07, top=0.93, hspace=0.3, right=0.8)\n",
    "        plt.savefig('track_{:04d}.png'.format(i), dpi=70)"
   ]
  },
  {
   "cell_type": "code",
   "execution_count": null,
   "metadata": {
    "collapsed": true
   },
   "outputs": [],
   "source": []
  }
 ],
 "metadata": {
  "kernelspec": {
   "display_name": "Python 2",
   "language": "python",
   "name": "python2"
  },
  "language_info": {
   "codemirror_mode": {
    "name": "ipython",
    "version": 2
   },
   "file_extension": ".py",
   "mimetype": "text/x-python",
   "name": "python",
   "nbconvert_exporter": "python",
   "pygments_lexer": "ipython2",
   "version": "2.7.12"
  }
 },
 "nbformat": 4,
 "nbformat_minor": 0
}
