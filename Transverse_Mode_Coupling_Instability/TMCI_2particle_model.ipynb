{
 "cells": [
  {
   "cell_type": "markdown",
   "metadata": {},
   "source": [
    "# Transverse Mode Coupling Instability in LHC\n",
    "\n",
    "This notebook demonstrates the transverse mode coupling instability (TMCI, sometimes also called fast head-tail instability) due to wake field interaction with a 2-particle model. The instability mechanism feeds energy from one synchrotron sideband (head-tail mode) of the betatron tune to another, when their frequencies overlap. Here it will be mode 0 and mode -1 for an impedance regime similar to the real LHC (where the instability threshold is an order of magnitude above this example). The two modes couple at a certain intensity because their frequencies are shifted by the wake field in different slopes.\n",
    "\n",
    "In the following we create a macro-particle beam made of 2 particles in the LHC at vanishing chromaticity. They interact via a broad-band resonator wakefield. The motion of the 2 macro-particles illustrates the instability mechanism in the following PyHEADTAIL simulation.\n",
    "\n",
    "Created 2018 by David Amorim and Adrian Oeftiger"
   ]
  },
  {
   "cell_type": "markdown",
   "metadata": {},
   "source": [
    "## Videos (results from simulations):"
   ]
  },
  {
   "cell_type": "markdown",
   "metadata": {},
   "source": [
    "### Below the TMCI threshold at $N=10^{10}$ ppb:\n",
    "\n",
    "Mode 0 (in phase transversely):"
   ]
  },
  {
   "cell_type": "code",
   "execution_count": 1,
   "metadata": {
    "collapsed": false
   },
   "outputs": [
    {
     "data": {
      "text/html": [
       "<video controls>\n",
       "  <source src=\"./plots_mode0_weak_impedance/video.webm\" type=\"video/webm\">\n",
       "</video>"
      ],
      "text/plain": [
       "<IPython.core.display.HTML object>"
      ]
     },
     "metadata": {},
     "output_type": "display_data"
    }
   ],
   "source": [
    "%%HTML\n",
    "<video controls>\n",
    "  <source src=\"./plots_mode0_weak_impedance/video.webm\" type=\"video/webm\">\n",
    "</video>"
   ]
  },
  {
   "cell_type": "markdown",
   "metadata": {},
   "source": [
    "Mode 1 (in anti phase transversely):"
   ]
  },
  {
   "cell_type": "code",
   "execution_count": 2,
   "metadata": {
    "collapsed": false
   },
   "outputs": [
    {
     "data": {
      "text/html": [
       "<video controls>\n",
       "  <source src=\"./plots_mode1_weak_impedance/video.webm\" type=\"video/webm\">\n",
       "</video>"
      ],
      "text/plain": [
       "<IPython.core.display.HTML object>"
      ]
     },
     "metadata": {},
     "output_type": "display_data"
    }
   ],
   "source": [
    "%%HTML\n",
    "<video controls>\n",
    "  <source src=\"./plots_mode1_weak_impedance/video.webm\" type=\"video/webm\">\n",
    "</video>"
   ]
  },
  {
   "cell_type": "markdown",
   "metadata": {},
   "source": [
    "### Above the TMCI threshold at $N=10^{11}$ ppb:\n",
    "\n",
    "Mode 0 (in phase transversely):"
   ]
  },
  {
   "cell_type": "code",
   "execution_count": 3,
   "metadata": {
    "collapsed": false
   },
   "outputs": [
    {
     "data": {
      "text/html": [
       "<video controls>\n",
       "  <source src=\"./plots_mode0_strong_impedance/video.webm\" type=\"video/webm\">\n",
       "</video>"
      ],
      "text/plain": [
       "<IPython.core.display.HTML object>"
      ]
     },
     "metadata": {},
     "output_type": "display_data"
    }
   ],
   "source": [
    "%%HTML\n",
    "<video controls>\n",
    "  <source src=\"./plots_mode0_strong_impedance/video.webm\" type=\"video/webm\">\n",
    "</video>"
   ]
  },
  {
   "cell_type": "markdown",
   "metadata": {},
   "source": [
    "Mode 1 (in anti phase transversely):"
   ]
  },
  {
   "cell_type": "code",
   "execution_count": 103,
   "metadata": {
    "collapsed": false
   },
   "outputs": [
    {
     "data": {
      "text/html": [
       "<video controls>\n",
       "  <source src=\"./plots_mode1_strong_impedance/macro-particles3.webm\" type=\"video/webm\">\n",
       "</video>"
      ],
      "text/plain": [
       "<IPython.core.display.HTML object>"
      ]
     },
     "metadata": {},
     "output_type": "display_data"
    }
   ],
   "source": [
    "%%HTML\n",
    "<video controls>\n",
    "  <source src=\"./plots_mode1_strong_impedance/video.webm\" type=\"video/webm\">\n",
    "</video>"
   ]
  },
  {
   "cell_type": "markdown",
   "metadata": {},
   "source": [
    ".\n",
    "\n",
    ".\n",
    "\n",
    ".\n",
    "\n",
    "$\\implies$ Shall we simulate this? :-)\n",
    "\n",
    "\n",
    "## Imports for PyHEADTAIL simulations:"
   ]
  },
  {
   "cell_type": "code",
   "execution_count": 4,
   "metadata": {
    "collapsed": true
   },
   "outputs": [],
   "source": [
    "from __future__ import division, print_function\n",
    "range_ = range\n",
    "range = xrange\n",
    "\n",
    "\n",
    "import time\n",
    "\n",
    "import numpy as np\n",
    "# np.random.seed(10000042)\n",
    "import h5py\n",
    "from scipy.constants import e, m_p, c\n",
    "\n",
    "import matplotlib\n",
    "import matplotlib.pyplot as plt\n",
    "%matplotlib inline\n",
    "\n",
    "import seaborn as sns\n",
    "\n",
    "sns.set(font_scale=1.4)\n",
    "\n",
    "# Change the size of the fonts\n",
    "params = {'font.size': 50,\n",
    "          'xtick.labelsize': 16,\n",
    "          'ytick.labelsize': 16,\n",
    "          'legend.fontsize': 16,\n",
    "          'legend.handlelength': 2,\n",
    "         }\n",
    "plt.rcParams.update(params)"
   ]
  },
  {
   "cell_type": "code",
   "execution_count": 5,
   "metadata": {
    "collapsed": true
   },
   "outputs": [],
   "source": [
    "import os, sys\n",
    "sys.path.append('../')\n",
    "try:\n",
    "    from settings import *\n",
    "except ImportError:\n",
    "    pass"
   ]
  },
  {
   "cell_type": "code",
   "execution_count": 6,
   "metadata": {
    "collapsed": false
   },
   "outputs": [
    {
     "name": "stdout",
     "output_type": "stream",
     "text": [
      "PyHEADTAIL v1.12.4.7\n",
      "\n",
      "\n"
     ]
    }
   ],
   "source": [
    "from PyHEADTAIL.particles.slicing import UniformBinSlicer\n",
    "from PyHEADTAIL.impedances.wakes import WakeTable, WakeField, CircularResonator\n",
    "from PyHEADTAIL.feedback.transverse_damper import TransverseDamper\n",
    "from PyHEADTAIL.monitors.monitors import (\n",
    "    BunchMonitor, ParticleMonitor, SliceMonitor)\n",
    "from PyHEADTAIL.particles.particles import Particles\n",
    "from PyHEADTAIL.general.printers import SilentPrinter"
   ]
  },
  {
   "cell_type": "markdown",
   "metadata": {},
   "source": [
    "## Preparing the simulation:"
   ]
  },
  {
   "cell_type": "markdown",
   "metadata": {},
   "source": [
    "Here we define the beam and machine parameters, including the broadband resonator's shunt impedance, frequency and quality factor.\n",
    "\n",
    "An intensity of $N=10^{11}$ ppb is unstable, while $N=10^{10}$ ppb remains below the TMCI treshold here."
   ]
  },
  {
   "cell_type": "code",
   "execution_count": 7,
   "metadata": {
    "collapsed": false
   },
   "outputs": [],
   "source": [
    "# BEAM AND MACHINE PARAMETERS\n",
    "# ============================\n",
    "\n",
    "intensity_stable = 1e10\n",
    "intensity_unstable = 1e11\n",
    "\n",
    "# Beam parameters\n",
    "intensity = intensity_stable\n",
    "epsn_x = 3.e-6 # normalised horizontal emittance in meters rad\n",
    "epsn_y = 3.e-6 # normalised vertical emittance in meters rad\n",
    "sigma_z = 1.2e-9 * c / 4. # RMS bunch length in meters\n",
    "\n",
    "# Resonator parameters\n",
    "R_shunt = 90.0e6\n",
    "frequency = 0.5e9\n",
    "Q = 1\n",
    "\n",
    "# Machine parameters\n",
    "chroma = 0\n",
    "longitudinal_mode = 'linear'\n",
    "\n",
    "from LHC import LHC\n",
    "\n",
    "machine = LHC(n_segments=1,\n",
    "              machine_configuration='LHC_6.5TeV_collision_2016',\n",
    "              longitudinal_mode=longitudinal_mode,\n",
    "              Qp_x=[chroma], Qp_y=[chroma], \n",
    "              printer=SilentPrinter())"
   ]
  },
  {
   "cell_type": "markdown",
   "metadata": {},
   "source": [
    "The bunch is generated with only two macro-particles in opposite synchrotron phases.\n",
    "To distinguish a mode 0 from a mode 1, the initial \n",
    "transverse positions of the two particles have to be adapted accordingly: \n",
    "\n",
    "mode 0: same offset, e.g. both at +1μm\n",
    "\n",
    "mode 1: opposite offset, e.g. +1μm and -1μm"
   ]
  },
  {
   "cell_type": "code",
   "execution_count": 8,
   "metadata": {
    "collapsed": false
   },
   "outputs": [],
   "source": [
    "mode0 = [1.0e-6, 1.0e-6]\n",
    "mode1 = [-1.0e-6, 1.0e-6]\n",
    "\n",
    "mode_initialise = mode1\n",
    "\n",
    "initial_conditions = {\n",
    "  'x': np.array(mode_initialise, dtype=np.float64),\n",
    "  'xp': np.array([0, 0], dtype=np.float64),\n",
    "  'y': np.array([0, 0], dtype=np.float64),\n",
    "  'yp': np.array([0, 0], dtype=np.float64),\n",
    "  'z': np.array([-sigma_z, +sigma_z], dtype=np.float64),\n",
    "  'dp': np.array([0, 0], dtype=np.float64),\n",
    "}\n",
    "\n",
    "bunch = Particles(\n",
    "    2, intensity/2, e, m_p, machine.circumference, machine.gamma, \n",
    "    coords_n_momenta_dict=initial_conditions)"
   ]
  },
  {
   "cell_type": "markdown",
   "metadata": {},
   "source": [
    "Resolving the wake field accurately for the location of the trailing particle requires a fine slicing interval, we will therefore use 1000 slices. Longitudinal motion is bound on the interval $[-\\sigma_z, +\\sigma_z]$, we add $10\\%$ margin for the slicing interval:"
   ]
  },
  {
   "cell_type": "code",
   "execution_count": 9,
   "metadata": {
    "collapsed": true
   },
   "outputs": [],
   "source": [
    "# CREATE BEAM SLICERS\n",
    "# ===================\n",
    "slicer_for_wakefields = UniformBinSlicer(\n",
    "    1000, z_cuts=(-1.1*sigma_z, 1.1*sigma_z))\n",
    "\n",
    "# CREATE WAKES\n",
    "# ============\n",
    "wake_table = CircularResonator(R_shunt, frequency, Q)\n",
    "wake_field = WakeField(slicer_for_wakefields, wake_table)\n",
    "\n",
    "machine.one_turn_map.append(wake_field)"
   ]
  },
  {
   "cell_type": "markdown",
   "metadata": {},
   "source": [
    "The machine one-turn map now contains 3 elements: we will track the macro-particles' betatron motion around the ring, advance their synchrotron phase and finally apply the broadband resonator kick:"
   ]
  },
  {
   "cell_type": "code",
   "execution_count": 10,
   "metadata": {
    "collapsed": false,
    "scrolled": true
   },
   "outputs": [
    {
     "data": {
      "text/plain": [
       "[<PyHEADTAIL.trackers.transverse_tracking.TransverseSegmentMap at 0x7f86842f1290>,\n",
       " <PyHEADTAIL.trackers.longitudinal_tracking.LinearMap at 0x7f86b9ec9e10>,\n",
       " <PyHEADTAIL.impedances.wakes.WakeField at 0x7f86b9ee2610>]"
      ]
     },
     "execution_count": 10,
     "metadata": {},
     "output_type": "execute_result"
    }
   ],
   "source": [
    "machine.one_turn_map"
   ]
  },
  {
   "cell_type": "markdown",
   "metadata": {},
   "source": [
    "Fixing the length of the simulation run time:"
   ]
  },
  {
   "cell_type": "code",
   "execution_count": 11,
   "metadata": {
    "collapsed": false
   },
   "outputs": [],
   "source": [
    "n_turns = 2000"
   ]
  },
  {
   "cell_type": "markdown",
   "metadata": {},
   "source": [
    "The coordinates of the particles will be recorded at each turn in these empty arrays:"
   ]
  },
  {
   "cell_type": "code",
   "execution_count": 12,
   "metadata": {
    "collapsed": false
   },
   "outputs": [],
   "source": [
    "xsave = np.zeros((n_turns, bunch.macroparticlenumber), dtype=np.float32)\n",
    "xpsave = np.zeros((n_turns, bunch.macroparticlenumber), dtype=np.float32)\n",
    "ysave = np.zeros((n_turns, bunch.macroparticlenumber), dtype=np.float32)\n",
    "ypsave = np.zeros((n_turns, bunch.macroparticlenumber), dtype=np.float32)\n",
    "zsave = np.zeros((n_turns, bunch.macroparticlenumber), dtype=np.float32)\n",
    "dpsave = np.zeros((n_turns, bunch.macroparticlenumber), dtype=np.float32)\n",
    "\n",
    "mxsave = np.zeros(n_turns, dtype=np.float32)\n",
    "mysave = np.zeros(n_turns, dtype=np.float32)\n",
    "mzsave = np.zeros(n_turns, dtype=np.float32)"
   ]
  },
  {
   "cell_type": "markdown",
   "metadata": {},
   "source": [
    "## Tracking:"
   ]
  },
  {
   "cell_type": "code",
   "execution_count": 13,
   "metadata": {
    "collapsed": false,
    "scrolled": false
   },
   "outputs": [
    {
     "name": "stdout",
     "output_type": "stream",
     "text": [
      "\n",
      "--> Begin tracking...\n",
      "\n",
      "Centroids: (0, 0, 0) @ turn 0, 4.618 ms, 04/06/2018 19:51:58\n",
      "Centroids: (3.77e-08, 0, 0) @ turn 100, 1.276 ms, 04/06/2018 19:51:58\n",
      "Centroids: (3.66e-08, 0, 0) @ turn 200, 1.276 ms, 04/06/2018 19:51:59\n",
      "Centroids: (7.66e-10, 0, 0) @ turn 300, 1.292 ms, 04/06/2018 19:51:59\n",
      "Centroids: (-3.54e-08, 0, 0) @ turn 400, 1.285 ms, 04/06/2018 19:51:59\n",
      "Centroids: (-3.33e-08, 0, 0) @ turn 500, 1.288 ms, 04/06/2018 19:51:59\n",
      "Centroids: (2.59e-12, 0, 0) @ turn 600, 1.286 ms, 04/06/2018 19:51:59\n",
      "Centroids: (3.38e-08, 0, 0) @ turn 700, 1.283 ms, 04/06/2018 19:51:59\n",
      "Centroids: (3.05e-08, 0, 0) @ turn 800, 1.334 ms, 04/06/2018 19:51:59\n",
      "Centroids: (-2.96e-10, 0, 0) @ turn 900, 1.326 ms, 04/06/2018 19:51:59\n",
      "Centroids: (-3.17e-08, 0, 0) @ turn 1000, 1.326 ms, 04/06/2018 19:52:00\n",
      "Centroids: (-2.79e-08, 0, 0) @ turn 1100, 1.334 ms, 04/06/2018 19:52:00\n",
      "Centroids: (-3.27e-10, 0, 0) @ turn 1200, 1.325 ms, 04/06/2018 19:52:00\n",
      "Centroids: (2.79e-08, 0, 0) @ turn 1300, 1.323 ms, 04/06/2018 19:52:00\n",
      "Centroids: (2.35e-08, 0, 0) @ turn 1400, 1.326 ms, 04/06/2018 19:52:00\n",
      "Centroids: (-9.53e-10, 0, 0) @ turn 1500, 1.364 ms, 04/06/2018 19:52:00\n",
      "Centroids: (-2.61e-08, 0, 0) @ turn 1600, 1.326 ms, 04/06/2018 19:52:00\n",
      "Centroids: (-2.17e-08, 0, 0) @ turn 1700, 1.339 ms, 04/06/2018 19:52:01\n",
      "Centroids: (-1.08e-09, 0, 0) @ turn 1800, 1.33 ms, 04/06/2018 19:52:01\n",
      "Centroids: (2.03e-08, 0, 0) @ turn 1900, 1.331 ms, 04/06/2018 19:52:01\n",
      "\n",
      "*** Successfully completed!\n"
     ]
    }
   ],
   "source": [
    "# TRACKING LOOP\n",
    "# =============\n",
    "print ('\\n--> Begin tracking...\\n')\n",
    "\n",
    "# GO!!!\n",
    "for i in range(n_turns):\n",
    "\n",
    "    t0 = time.clock()\n",
    "\n",
    "    # track the beam around the machine for one turn:\n",
    "    machine.track(bunch)\n",
    "\n",
    "    mx, my, mz = bunch.mean_x(), bunch.mean_y(), bunch.mean_z()\n",
    "\n",
    "    xsave[i][:] = bunch.x\n",
    "    xpsave[i][:] = bunch.xp\n",
    "    ysave[i][:] = bunch.y\n",
    "    ypsave[i][:] = bunch.yp\n",
    "    zsave[i][:] = bunch.z\n",
    "    dpsave[i][:] = bunch.dp\n",
    "    \n",
    "    mxsave[i] = mx\n",
    "    mysave[i] = my\n",
    "    mzsave[i] = mz\n",
    "    \n",
    "    # print status all 100 turns:\n",
    "    if i % 100 == 0:\n",
    "        t1 = time.clock()\n",
    "        print ('Centroids: ({:.3g}, {:.3g}, {:.3g})'\n",
    "               ' @ turn {:d}, {:g} ms, {:s}'.format(\n",
    "                    mx, my, mz, i, (t1-t0)*1e3, time.strftime(\n",
    "                        \"%d/%m/%Y %H:%M:%S\", time.localtime()))\n",
    "        )\n",
    "\n",
    "print ('\\n*** Successfully completed!')"
   ]
  },
  {
   "cell_type": "markdown",
   "metadata": {},
   "source": [
    "## Plotting the results:"
   ]
  },
  {
   "cell_type": "code",
   "execution_count": 14,
   "metadata": {
    "collapsed": true
   },
   "outputs": [],
   "source": [
    "# Find the maximum values of the data and use\n",
    "# them as a limit for the plots\n",
    "lim_x = np.abs(max(xsave.max(), xsave.min(), key=abs))\n",
    "lim_xp = np.abs(max(xpsave.max(), xpsave.min(), key=abs))\n",
    "\n",
    "lim_z = np.abs(max(zsave.max(), zsave.min(), key=abs))\n",
    "lim_dp = np.abs(max(dpsave.max(), dpsave.min(), key=abs))\n",
    "\n",
    "lim_x = 1.0e-6\n",
    "lim_z = 0.1"
   ]
  },
  {
   "cell_type": "markdown",
   "metadata": {},
   "source": [
    "We store the plots in a subdirectory to be able to create a video afterwards. Be aware, the plotting may take some minutes."
   ]
  },
  {
   "cell_type": "code",
   "execution_count": 15,
   "metadata": {
    "collapsed": false
   },
   "outputs": [
    {
     "data": {
      "image/png": "[encoded data removed]",
      "text/plain": [
       "<matplotlib.figure.Figure at 0x7f861cc749d0>"
      ]
     },
     "metadata": {},
     "output_type": "display_data"
    }
   ],
   "source": [
    "save_directory = 'plots_mode1_weak_impedance/'\n",
    "\n",
    "if not os.path.exists('./'+save_directory):\n",
    "    os.makedirs('./'+save_directory)\n",
    "\n",
    "for turn_number in np.arange(0, n_turns , 10):\n",
    "\n",
    "    plt.close('all')\n",
    "    fig, ax_list = plt.subplots(1, 2, figsize=(13.5, 7), dpi=100)\n",
    "\n",
    "    ax = ax_list[0]\n",
    "    \n",
    "    mparticle_number = 0\n",
    "    ax.scatter(zsave[turn_number, mparticle_number]*1e3, xsave[turn_number, mparticle_number]*1e6, s=300)\n",
    "\n",
    "    mparticle_number = 1\n",
    "    ax.scatter(zsave[turn_number, mparticle_number]*1e3, xsave[turn_number, mparticle_number]*1e6, s=300, \n",
    "               label='macro-particle')\n",
    "\n",
    "    ax.scatter(mzsave[turn_number]*1e3, mxsave[turn_number]*1e6, s=600, c='k', label='centroid')\n",
    "    \n",
    "    ax.set_xlim(-1.0 * lim_z*1e3, 1.0 * lim_z*1e3)\n",
    "    ax.set_ylim(-8.0 * lim_x*1e6, 8.0 * lim_x*1e6)\n",
    "\n",
    "    ax.set_xlabel('Longitudinal position $z$ [m]')\n",
    "    ax.set_ylabel(u'Transverse position $x$ [μm]')\n",
    "    \n",
    "#     ax.text(0.05, 0.9, 'Turn: {:04d}'.format(turn_number),\n",
    "#             verticalalignment='bottom', horizontalalignment='left',\n",
    "#             transform=ax.transAxes, fontsize=18,\n",
    "#             bbox={'facecolor':'white', 'alpha':0.9, 'pad':3})\n",
    "    \n",
    "    ax.text(0.15, 0.05, 'Tail',\n",
    "        verticalalignment='bottom', horizontalalignment='center',\n",
    "        transform=ax.transAxes, fontsize=24,\n",
    "        bbox={'facecolor':'white', 'alpha':0.9, 'pad':3})\n",
    "    \n",
    "    ax.text(0.85, 0.05, 'Head',\n",
    "        verticalalignment='bottom', horizontalalignment='center',\n",
    "        transform=ax.transAxes, fontsize=24,\n",
    "        bbox={'facecolor':'white', 'alpha':0.9, 'pad':3})\n",
    "    \n",
    "    lgd = ax.legend(loc=2, frameon=True, ncol=2)\n",
    "    lgd.get_frame().set_facecolor('white')\n",
    "    \n",
    "    ax.set_title('Macro-particles')\n",
    "    \n",
    "    ax = ax_list[1]\n",
    "    \n",
    "    ax.plot(np.arange(0, turn_number), mxsave[:turn_number]*1e6, c='k')\n",
    "    \n",
    "    ax.set_xlim(0, n_turns)\n",
    "    ax.set_ylim(-8.0 * lim_x*1e6, 8.0 * lim_x*1e6)\n",
    "\n",
    "    ax.set_xlabel('Turn number')\n",
    "    ax.set_ylabel(r'Transverse position $\\langle x \\rangle$ ' + u'[μm]')\n",
    "    \n",
    "    ax.set_title('Centroid')\n",
    "    \n",
    "    plt.tight_layout()\n",
    "    \n",
    "    plt.savefig('./'+save_directory+'position{0:05d}.png'.format(turn_number))"
   ]
  },
  {
   "cell_type": "markdown",
   "metadata": {},
   "source": [
    "To create a video out of the multiple files, one can use ffmpeg (on Linux).\n",
    "\n",
    "In a terminal, create a H.264/AVC video via\n",
    "```bash\n",
    "$ ffmpeg -i position0%03d0.png -q:v 0 -c:v libx264 -framerate 10 -pix_fmt yuv420p video.avi\n",
    "```\n",
    "\n",
    "Or, for a web browser as for the above embedded videos:\n",
    "\n",
    "```bash\n",
    "$ ffmpeg -i position0%03d0.png -c:v libvpx -crf 10 -b:v 1M -c:a libvorbis -framerate 10 -pix_fmt yuv420p video.webm```\n",
    "\n",
    "Like this:"
   ]
  },
  {
   "cell_type": "code",
   "execution_count": 16,
   "metadata": {
    "collapsed": false,
    "scrolled": true
   },
   "outputs": [
    {
     "name": "stdout",
     "output_type": "stream",
     "text": [
      "ffmpeg version 2.8.14-0ubuntu0.16.04.1 Copyright (c) 2000-2018 the FFmpeg developers\n",
      "  built with gcc 5.4.0 (Ubuntu 5.4.0-6ubuntu1~16.04.9) 20160609\n",
      "  configuration: --prefix=/usr --extra-version=0ubuntu0.16.04.1 --build-suffix=-ffmpeg --toolchain=hardened --libdir=/usr/lib/x86_64-linux-gnu --incdir=/usr/include/x86_64-linux-gnu --cc=cc --cxx=g++ --enable-gpl --enable-shared --disable-stripping --disable-decoder=libopenjpeg --disable-decoder=libschroedinger --enable-avresample --enable-avisynth --enable-gnutls --enable-ladspa --enable-libass --enable-libbluray --enable-libbs2b --enable-libcaca --enable-libcdio --enable-libflite --enable-libfontconfig --enable-libfreetype --enable-libfribidi --enable-libgme --enable-libgsm --enable-libmodplug --enable-libmp3lame --enable-libopenjpeg --enable-libopus --enable-libpulse --enable-librtmp --enable-libschroedinger --enable-libshine --enable-libsnappy --enable-libsoxr --enable-libspeex --enable-libssh --enable-libtheora --enable-libtwolame --enable-libvorbis --enable-libvpx --enable-libwavpack --enable-libwebp --enable-libx265 --enable-libxvid --enable-libzvbi --enable-openal --enable-opengl --enable-x11grab --enable-libdc1394 --enable-libiec61883 --enable-libzmq --enable-frei0r --enable-libx264 --enable-libopencv\n",
      "  libavutil      54. 31.100 / 54. 31.100\n",
      "  libavcodec     56. 60.100 / 56. 60.100\n",
      "  libavformat    56. 40.101 / 56. 40.101\n",
      "  libavdevice    56.  4.100 / 56.  4.100\n",
      "  libavfilter     5. 40.101 /  5. 40.101\n",
      "  libavresample   2.  1.  0 /  2.  1.  0\n",
      "  libswscale      3.  1.101 /  3.  1.101\n",
      "  libswresample   1.  2.101 /  1.  2.101\n",
      "  libpostproc    53.  3.100 / 53.  3.100\n",
      "Input #0, image2, from 'position0%03d0.png':\n",
      "  Duration: 00:00:08.00, start: 0.000000, bitrate: N/A\n",
      "    Stream #0:0: Video: png, rgba(pc), 972x504 [SAR 2834:2834 DAR 27:14], 25 fps, 25 tbr, 25 tbn, 25 tbc\n",
      "\u001b[1;36m[libx264 @ 0x230fee0] \u001b[0musing SAR=1/1\n",
      "\u001b[1;36m[libx264 @ 0x230fee0] \u001b[0musing cpu capabilities: MMX2 SSE2Fast SSSE3 SSE4.2 AVX\n",
      "\u001b[1;36m[libx264 @ 0x230fee0] \u001b[0mprofile High, level 3.1\n",
      "Output #0, avi, to 'video.avi':\n",
      "  Metadata:\n",
      "    ISFT            : Lavf56.40.101\n",
      "    Stream #0:0: Video: h264 (libx264) (H264 / 0x34363248), yuv420p, 972x504 [SAR 1:1 DAR 27:14], q=-1--1, 25 fps, 25 tbn, 25 tbc\n",
      "    Metadata:\n",
      "      encoder         : Lavc56.60.100 libx264\n",
      "Stream mapping:\n",
      "  Stream #0:0 -> #0:0 (png (native) -> h264 (libx264))\n",
      "Press [q] to stop, [?] for help\n",
      "frame=  200 fps=0.0 q=-1.0 Lsize=      93kB time=00:00:07.92 bitrate=  95.7kbits/s    \n",
      "video:82kB audio:0kB subtitle:0kB other streams:0kB global headers:0kB muxing overhead: 12.668419%\n",
      "\u001b[1;36m[libx264 @ 0x230fee0] \u001b[0mframe I:1     Avg QP:16.78  size: 16410\n",
      "\u001b[1;36m[libx264 @ 0x230fee0] \u001b[0mframe P:105   Avg QP:21.12  size:   369\n",
      "\u001b[1;36m[libx264 @ 0x230fee0] \u001b[0mframe B:94    Avg QP:26.30  size:   307\n",
      "\u001b[1;36m[libx264 @ 0x230fee0] \u001b[0mconsecutive B-frames: 37.0%  1.0%  0.0% 62.0%\n",
      "\u001b[1;36m[libx264 @ 0x230fee0] \u001b[0mmb I  I16..4: 41.8% 39.2% 19.0%\n",
      "\u001b[1;36m[libx264 @ 0x230fee0] \u001b[0mmb P  I16..4:  0.3%  0.3%  0.3%  P16..4:  0.9%  0.2%  0.1%  0.0%  0.0%    skip:97.8%\n",
      "\u001b[1;36m[libx264 @ 0x230fee0] \u001b[0mmb B  I16..4:  0.1%  0.2%  0.3%  B16..8:  2.1%  0.3%  0.0%  direct: 0.0%  skip:96.9%  L0:54.7% L1:44.5% BI: 0.8%\n",
      "\u001b[1;36m[libx264 @ 0x230fee0] \u001b[0m8x8 transform intra:33.8% inter:20.2%\n",
      "\u001b[1;36m[libx264 @ 0x230fee0] \u001b[0mcoded y,uvDC,uvAC intra: 17.6% 18.3% 15.6% inter: 0.1% 0.2% 0.1%\n",
      "\u001b[1;36m[libx264 @ 0x230fee0] \u001b[0mi16 v,h,dc,p: 66% 31%  4%  0%\n",
      "\u001b[1;36m[libx264 @ 0x230fee0] \u001b[0mi8 v,h,dc,ddl,ddr,vr,hd,vl,hu: 29% 10% 60%  0%  0%  0%  0%  0%  0%\n",
      "\u001b[1;36m[libx264 @ 0x230fee0] \u001b[0mi4 v,h,dc,ddl,ddr,vr,hd,vl,hu: 30% 29% 24%  3%  3%  3%  3%  3%  2%\n",
      "\u001b[1;36m[libx264 @ 0x230fee0] \u001b[0mi8c dc,h,v,p: 78% 10% 12%  0%\n",
      "\u001b[1;36m[libx264 @ 0x230fee0] \u001b[0mWeighted P-Frames: Y:0.0% UV:0.0%\n",
      "\u001b[1;36m[libx264 @ 0x230fee0] \u001b[0mref P L0: 52.0%  2.5% 30.1% 15.3%\n",
      "\u001b[1;36m[libx264 @ 0x230fee0] \u001b[0mref B L0: 72.9% 17.7%  9.3%\n",
      "\u001b[1;36m[libx264 @ 0x230fee0] \u001b[0mref B L1: 92.5%  7.5%\n",
      "\u001b[1;36m[libx264 @ 0x230fee0] \u001b[0mkb/s:84.09\n"
     ]
    }
   ],
   "source": [
    "!cd ./plots_mode0_strong_impedance/ && \\\n",
    "    ffmpeg -i position0%03d0.png -q:v 0 -c:v libx264 -framerate 10 -pix_fmt yuv420p video.avi"
   ]
  },
  {
   "cell_type": "code",
   "execution_count": null,
   "metadata": {
    "collapsed": true
   },
   "outputs": [],
   "source": []
  }
 ],
 "metadata": {
  "kernelspec": {
   "display_name": "Python 2",
   "language": "python",
   "name": "python2"
  },
  "language_info": {
   "codemirror_mode": {
    "name": "ipython",
    "version": 2
   },
   "file_extension": ".py",
   "mimetype": "text/x-python",
   "name": "python",
   "nbconvert_exporter": "python",
   "pygments_lexer": "ipython2",
   "version": "2.7.11"
  }
 },
 "nbformat": 4,
 "nbformat_minor": 2
}
